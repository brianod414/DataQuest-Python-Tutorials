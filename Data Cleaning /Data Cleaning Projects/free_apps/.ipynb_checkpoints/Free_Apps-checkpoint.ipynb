{
 "cells": [
  {
   "cell_type": "markdown",
   "id": "2e8955dc",
   "metadata": {},
   "source": [
    "# Analysis of Mobile Data\n",
    "The aim of this project is to analyse data to help app developers understand what type of apps are likely to attract more users. \n",
    "\n",
    "This is beneficial in the world of app development as many apps are free to download, the main source of revenue for an app is the ads. The revenue from ads is strongly interlinked with the number of users. \n",
    "\n"
   ]
  },
  {
   "cell_type": "markdown",
   "id": "70682b4a",
   "metadata": {},
   "source": [
    "## Importing Data"
   ]
  },
  {
   "cell_type": "code",
   "execution_count": 32,
   "id": "3817e2d3",
   "metadata": {},
   "outputs": [],
   "source": [
    "open_file = open('AppleStore.csv')\n",
    "from csv import reader\n",
    "read_file = reader(open_file)\n",
    "apple_apps_data = list(read_file)\n",
    "apple_header = apple_apps_data[0]\n",
    "apple_data = apple_apps_data[1:]\n",
    "\n",
    "open_file = open('googleplaystore.csv')\n",
    "read_file = reader(open_file)\n",
    "google_apps_data = list(read_file)\n",
    "google_header = google_apps_data[0]\n",
    "google_data = google_apps_data[1:]"
   ]
  },
  {
   "cell_type": "code",
   "execution_count": 33,
   "id": "54c835f3",
   "metadata": {},
   "outputs": [],
   "source": [
    "def explore_data(dataset, start, end, rows_and_columns = False):\n",
    "    data_slice = dataset[start:end]\n",
    "    index=0\n",
    "    for row in data_slice:\n",
    "        print(row)\n",
    "        print('\\n')\n",
    "    if rows_and_columns:\n",
    "        print('Number of rows: ', len(dataset))\n",
    "        print('Number of columns: ', len(dataset[0]))"
   ]
  },
  {
   "cell_type": "code",
   "execution_count": 34,
   "id": "56f8a451",
   "metadata": {},
   "outputs": [
    {
     "name": "stdout",
     "output_type": "stream",
     "text": [
      "['id', 'track_name', 'size_bytes', 'currency', 'price', 'rating_count_tot', 'rating_count_ver', 'user_rating', 'user_rating_ver', 'ver', 'cont_rating', 'prime_genre', 'sup_devices.num', 'ipadSc_urls.num', 'lang.num', 'vpp_lic']\n",
      "\n",
      "\n",
      "['284882215', 'Facebook', '389879808', 'USD', '0.0', '2974676', '212', '3.5', '3.5', '95.0', '4+', 'Social Networking', '37', '1', '29', '1']\n",
      "\n",
      "\n",
      "['389801252', 'Instagram', '113954816', 'USD', '0.0', '2161558', '1289', '4.5', '4.0', '10.23', '12+', 'Photo & Video', '37', '0', '29', '1']\n",
      "\n",
      "\n",
      "['529479190', 'Clash of Clans', '116476928', 'USD', '0.0', '2130805', '579', '4.5', '4.5', '9.24.12', '9+', 'Games', '38', '5', '18', '1']\n",
      "\n",
      "\n",
      "Number of rows:  7197\n",
      "Number of columns:  16\n"
     ]
    }
   ],
   "source": [
    "print(apple_header)\n",
    "print('\\n')\n",
    "explore_data(apple_data, 0, 3, True)"
   ]
  },
  {
   "cell_type": "markdown",
   "id": "8d584cdc",
   "metadata": {},
   "source": [
    "The Apple apps have 7197 apps and 16 columns, useful columns may be `track_name`, `currency`, `price`, `rating_count_tot`, `rating_count_ver` and `prime_genre`. For more information on the column meanings, see documentation.  "
   ]
  },
  {
   "cell_type": "code",
   "execution_count": 35,
   "id": "4531c2db",
   "metadata": {},
   "outputs": [
    {
     "name": "stdout",
     "output_type": "stream",
     "text": [
      "['App', 'Category', 'Rating', 'Reviews', 'Size', 'Installs', 'Type', 'Price', 'Content Rating', 'Genres', 'Last Updated', 'Current Ver', 'Android Ver']\n",
      "\n",
      "\n",
      "['Photo Editor & Candy Camera & Grid & ScrapBook', 'ART_AND_DESIGN', '4.1', '159', '19M', '10,000+', 'Free', '0', 'Everyone', 'Art & Design', 'January 7, 2018', '1.0.0', '4.0.3 and up']\n",
      "\n",
      "\n",
      "['Coloring book moana', 'ART_AND_DESIGN', '3.9', '967', '14M', '500,000+', 'Free', '0', 'Everyone', 'Art & Design;Pretend Play', 'January 15, 2018', '2.0.0', '4.0.3 and up']\n",
      "\n",
      "\n",
      "['U Launcher Lite – FREE Live Cool Themes, Hide Apps', 'ART_AND_DESIGN', '4.7', '87510', '8.7M', '5,000,000+', 'Free', '0', 'Everyone', 'Art & Design', 'August 1, 2018', '1.2.4', '4.0.3 and up']\n",
      "\n",
      "\n",
      "Number of rows:  10841\n",
      "Number of columns:  13\n"
     ]
    }
   ],
   "source": [
    "print(google_header)\n",
    "print('\\n')\n",
    "explore_data(google_data, 0, 3, True)"
   ]
  },
  {
   "cell_type": "markdown",
   "id": "ca4e0746",
   "metadata": {},
   "source": [
    "We see that the Google Play data set has 10841 apps and 13 columns. At a quick glance, the columns that might be useful for the purpose of our analysis are `App`, `Category`, `Reviews`, `Installs`, `Type`, `Price`, and `Genres`\n",
    "."
   ]
  },
  {
   "cell_type": "markdown",
   "id": "311c7f59",
   "metadata": {},
   "source": [
    "## Data Cleaning\n",
    "\n",
    "Before beginning our analysis, we need to make sure the data we analyze is accurate, or the results of our analysis will be wrong. This means that we need to do the following:\n",
    "\n",
    "* Detect inaccurate data, and correct or remove it.\n",
    "* Detect duplicate data, and remove the duplicates.\n",
    "\n",
    "Recall that at our company, we only build apps that are free to download and install, and we design them for an English-speaking audience. This means that we'll need to do the following:\n",
    "\n",
    "* Remove non-English apps like 爱奇艺PPS -《欢乐颂2》电视剧热播.\n",
    "* Remove apps that aren't free.\n"
   ]
  },
  {
   "cell_type": "markdown",
   "id": "8e53d8f9",
   "metadata": {},
   "source": [
    "The below datarow is missing a rating value. "
   ]
  },
  {
   "cell_type": "code",
   "execution_count": 39,
   "id": "018227a6",
   "metadata": {},
   "outputs": [
    {
     "name": "stdout",
     "output_type": "stream",
     "text": [
      "['Life Made WI-Fi Touchscreen Photo Frame', '1.9', '19', '3.0M', '1,000+', 'Free', '0', 'Everyone', '', 'February 11, 2018', '1.0.19', '4.0 and up']\n"
     ]
    }
   ],
   "source": [
    "print(google_data[10472])"
   ]
  },
  {
   "cell_type": "code",
   "execution_count": 41,
   "id": "e6f6022c",
   "metadata": {},
   "outputs": [],
   "source": [
    "del google_data[10472]"
   ]
  },
  {
   "cell_type": "markdown",
   "id": "2f4c969a",
   "metadata": {},
   "source": [
    "Not the errorenous row has been removed, the size of the dataset has reduced by 1. "
   ]
  },
  {
   "cell_type": "code",
   "execution_count": 42,
   "id": "c50a35d9",
   "metadata": {
    "scrolled": true
   },
   "outputs": [
    {
     "name": "stdout",
     "output_type": "stream",
     "text": [
      "10840\n"
     ]
    }
   ],
   "source": [
    "print(len(google_data))"
   ]
  },
  {
   "cell_type": "markdown",
   "id": "b2b0fbcc",
   "metadata": {},
   "source": [
    "## Removing Duplicate Entries"
   ]
  },
  {
   "cell_type": "markdown",
   "id": "d9124574",
   "metadata": {},
   "source": [
    "From some explorarion, we see there are four entries for 'instagram' in the Google apps dataset "
   ]
  },
  {
   "cell_type": "code",
   "execution_count": 45,
   "id": "37d601a5",
   "metadata": {},
   "outputs": [
    {
     "name": "stdout",
     "output_type": "stream",
     "text": [
      "['Instagram', 'SOCIAL', '4.5', '66577313', 'Varies with device', '1,000,000,000+', 'Free', '0', 'Teen', 'Social', 'July 31, 2018', 'Varies with device', 'Varies with device']\n",
      "\n",
      "\n",
      "['Instagram', 'SOCIAL', '4.5', '66577446', 'Varies with device', '1,000,000,000+', 'Free', '0', 'Teen', 'Social', 'July 31, 2018', 'Varies with device', 'Varies with device']\n",
      "\n",
      "\n",
      "['Instagram', 'SOCIAL', '4.5', '66577313', 'Varies with device', '1,000,000,000+', 'Free', '0', 'Teen', 'Social', 'July 31, 2018', 'Varies with device', 'Varies with device']\n",
      "\n",
      "\n",
      "['Instagram', 'SOCIAL', '4.5', '66509917', 'Varies with device', '1,000,000,000+', 'Free', '0', 'Teen', 'Social', 'July 31, 2018', 'Varies with device', 'Varies with device']\n",
      "\n",
      "\n"
     ]
    }
   ],
   "source": [
    "for row in google_data:\n",
    "    if row[0] == 'Instagram':\n",
    "        print(row)\n",
    "        print('\\n')"
   ]
  },
  {
   "cell_type": "markdown",
   "id": "41681e2d",
   "metadata": {},
   "source": [
    "We suspect there are more duplicates, lets check. "
   ]
  },
  {
   "cell_type": "code",
   "execution_count": 46,
   "id": "85dccd14",
   "metadata": {},
   "outputs": [
    {
     "name": "stdout",
     "output_type": "stream",
     "text": [
      "Number of unique apps:  9659\n",
      "Number of duplicate apps:  1181\n"
     ]
    }
   ],
   "source": [
    "duplicate_apps = []\n",
    "unique_apps = []\n",
    "\n",
    "for row in google_data:\n",
    "    app = row[0]\n",
    "    if app in unique_apps:\n",
    "        duplicate_apps.append(app)\n",
    "    else:\n",
    "        unique_apps.append(app)\n",
    "        \n",
    "print('Number of unique apps: ', len(unique_apps))\n",
    "print('Number of duplicate apps: ', len(duplicate_apps))"
   ]
  },
  {
   "cell_type": "markdown",
   "id": "3e454ffd",
   "metadata": {},
   "source": [
    "In the google dataset alone, there are 1181 duplicate apps, examples of some of these are;"
   ]
  },
  {
   "cell_type": "code",
   "execution_count": 47,
   "id": "a51e3b54",
   "metadata": {},
   "outputs": [
    {
     "name": "stdout",
     "output_type": "stream",
     "text": [
      "['Quick PDF Scanner + OCR FREE', 'Box', 'Google My Business', 'ZOOM Cloud Meetings', 'join.me - Simple Meetings']\n"
     ]
    }
   ],
   "source": [
    "print(duplicate_apps[0:5])"
   ]
  },
  {
   "cell_type": "markdown",
   "id": "b67df4e8",
   "metadata": {},
   "source": [
    "For duplicate entries, the only difference is between the total number of rating. To keep the most up to date records, we will delete all duplicates with a total rating less than the maximum total rating for that app. "
   ]
  },
  {
   "cell_type": "markdown",
   "id": "cc648a70",
   "metadata": {},
   "source": [
    "Here I loop through the data, adding the app name to a dictionary if it is unique. I then update the "
   ]
  },
  {
   "cell_type": "code",
   "execution_count": 55,
   "id": "e4f0d959",
   "metadata": {},
   "outputs": [],
   "source": [
    "reviews_max = {}\n",
    "\n",
    "for row in google_data:\n",
    "    name = row[0]\n",
    "    n_reviews = float(row[3])\n",
    "    \n",
    "    if name in reviews_max and reviews_max[name] < n_reviews:\n",
    "        reviews_max[name] = n_reviews\n",
    "    if name not in reviews_max:\n",
    "        reviews_max[name] =  n_reviews\n",
    "        "
   ]
  },
  {
   "cell_type": "code",
   "execution_count": 57,
   "id": "d84270f3",
   "metadata": {},
   "outputs": [
    {
     "name": "stdout",
     "output_type": "stream",
     "text": [
      "9659\n"
     ]
    }
   ],
   "source": [
    "print(len(reviews_max))"
   ]
  },
  {
   "cell_type": "markdown",
   "id": "7b64af80",
   "metadata": {},
   "source": [
    "Now, we have a dictionary of unique app names and their highest user rating value"
   ]
  },
  {
   "cell_type": "markdown",
   "id": "3e6659f1",
   "metadata": {},
   "source": [
    "We create 2 lists, \n",
    "Looping throught the data, if the app name has not been looped before and the ratings for the app are the maxmimum possible ratings, then we add the row corresponding to that app to the list of clean data\n",
    "\n",
    "The list of clean data should have 9659 rows, this is the same length as the dictionary created above. "
   ]
  },
  {
   "cell_type": "code",
   "execution_count": 60,
   "id": "a544c45e",
   "metadata": {
    "scrolled": false
   },
   "outputs": [
    {
     "name": "stdout",
     "output_type": "stream",
     "text": [
      "[['Photo Editor & Candy Camera & Grid & ScrapBook', 'ART_AND_DESIGN', '4.1', '159', '19M', '10,000+', 'Free', '0', 'Everyone', 'Art & Design', 'January 7, 2018', '1.0.0', '4.0.3 and up'], ['U Launcher Lite – FREE Live Cool Themes, Hide Apps', 'ART_AND_DESIGN', '4.7', '87510', '8.7M', '5,000,000+', 'Free', '0', 'Everyone', 'Art & Design', 'August 1, 2018', '1.2.4', '4.0.3 and up'], ['Sketch - Draw & Paint', 'ART_AND_DESIGN', '4.5', '215644', '25M', '50,000,000+', 'Free', '0', 'Teen', 'Art & Design', 'June 8, 2018', 'Varies with device', '4.2 and up'], ['Pixel Draw - Number Art Coloring Book', 'ART_AND_DESIGN', '4.3', '967', '2.8M', '100,000+', 'Free', '0', 'Everyone', 'Art & Design;Creativity', 'June 20, 2018', '1.1', '4.4 and up'], ['Paper flowers instructions', 'ART_AND_DESIGN', '4.4', '167', '5.6M', '50,000+', 'Free', '0', 'Everyone', 'Art & Design', 'March 26, 2017', '1.0', '2.3 and up']]\n",
      "9659\n"
     ]
    }
   ],
   "source": [
    "google_clean = []\n",
    "already_added = []\n",
    "\n",
    "for row in google_data:\n",
    "    name = row[0]\n",
    "    n_reviews = float(row[3])\n",
    "    \n",
    "    if n_reviews == reviews_max[name] and name not in already_added:\n",
    "        google_clean.append(row)\n",
    "        already_added.append(name)\n",
    "        \n",
    "print(google_clean[:5])\n",
    "print(len(google_clean))"
   ]
  },
  {
   "cell_type": "markdown",
   "id": "0b112491",
   "metadata": {},
   "source": [
    "**Removing non-English apps**\n",
    "\n",
    "I will create a function to extract the ASCII values of characters in app names, if the character is greater than 127 it is not part of the english language. \n",
    "\n",
    "The function will return false if any character in the app name contains one of these non-english characters. "
   ]
  },
  {
   "cell_type": "code",
   "execution_count": 101,
   "id": "9a8ef174",
   "metadata": {},
   "outputs": [],
   "source": [
    "def is_english(string_test):\n",
    "    for character in string_test:\n",
    "        if ord(character) > 127:\n",
    "             return False\n",
    "    return True\n"
   ]
  },
  {
   "cell_type": "markdown",
   "id": "9c269dd2",
   "metadata": {},
   "source": [
    "The function is useful, however we see it incorrectly identifies the apps \"Docs To Go™ Free Office Suite\" and \"Instachat 😜\" as non-english. "
   ]
  },
  {
   "cell_type": "code",
   "execution_count": 102,
   "id": "8d85d7bd",
   "metadata": {},
   "outputs": [
    {
     "name": "stdout",
     "output_type": "stream",
     "text": [
      "False\n",
      "False\n"
     ]
    }
   ],
   "source": [
    "\n",
    "print(is_english('Docs To Go™ Free Office Suite'))\n",
    "\n",
    "print(is_english('Instachat 😜'))"
   ]
  },
  {
   "cell_type": "markdown",
   "id": "dfa20566",
   "metadata": {},
   "source": [
    "A solution to this is to only remove names that have more than 3 non-english characters. "
   ]
  },
  {
   "cell_type": "code",
   "execution_count": 103,
   "id": "73df187e",
   "metadata": {},
   "outputs": [],
   "source": [
    "def is_english(string_test):\n",
    "    count = 0\n",
    "    for character in string_test:\n",
    "        if ord(character) > 127:\n",
    "             count +=1\n",
    "        if count > 3:\n",
    "            return False\n",
    "    return True\n"
   ]
  },
  {
   "cell_type": "markdown",
   "id": "6758872c",
   "metadata": {},
   "source": [
    "Now we have a solution to the 2 cases below. "
   ]
  },
  {
   "cell_type": "code",
   "execution_count": 104,
   "id": "a787473b",
   "metadata": {},
   "outputs": [
    {
     "name": "stdout",
     "output_type": "stream",
     "text": [
      "True\n",
      "True\n"
     ]
    }
   ],
   "source": [
    "\n",
    "print(is_english('Docs To Go™ Free Office Suite'))\n",
    "\n",
    "print(is_english('Instachat 😜'))"
   ]
  },
  {
   "cell_type": "code",
   "execution_count": 108,
   "id": "5d86d7b9",
   "metadata": {},
   "outputs": [],
   "source": [
    "google_english = []\n",
    "\n",
    "for row in google_clean:\n",
    "    if is_english(row[0]):\n",
    "        google_english.append(row)\n",
    "        \n",
    "        \n",
    "apple_english = [] \n",
    "\n",
    "for row in apple_data:\n",
    "    if is_english(row[1]):\n",
    "        apple_english.append(row)"
   ]
  },
  {
   "cell_type": "markdown",
   "id": "a9f1f31f",
   "metadata": {},
   "source": [
    "The before and after values after removing non-english apps from Google data:"
   ]
  },
  {
   "cell_type": "code",
   "execution_count": 114,
   "id": "03b5a269",
   "metadata": {},
   "outputs": [
    {
     "name": "stdout",
     "output_type": "stream",
     "text": [
      "9659 9614\n"
     ]
    }
   ],
   "source": [
    "print(len(google_clean), len(google_english))"
   ]
  },
  {
   "cell_type": "markdown",
   "id": "4b39a3a6",
   "metadata": {},
   "source": [
    "The before and after values after removing non-english apps from Google data:"
   ]
  },
  {
   "cell_type": "code",
   "execution_count": 112,
   "id": "0d998380",
   "metadata": {},
   "outputs": [
    {
     "name": "stdout",
     "output_type": "stream",
     "text": [
      "7197 6183\n"
     ]
    }
   ],
   "source": [
    "print(len(apple_data), len(apple_english))\n"
   ]
  },
  {
   "cell_type": "markdown",
   "id": "04751f6b",
   "metadata": {},
   "source": [
    "**Isolating Free Apps** \n",
    "As our analysis only considers free apps. "
   ]
  },
  {
   "cell_type": "code",
   "execution_count": 144,
   "id": "53d56da7",
   "metadata": {},
   "outputs": [],
   "source": [
    "google_free = []\n",
    "for row in google_english:\n",
    "    price = row[7]\n",
    "    if price == '0':\n",
    "        google_free.append(row)\n",
    "        \n",
    "        \n",
    "apple_free = []\n",
    "for row in apple_english:\n",
    "    price = row[4]\n",
    "    if price == '0.0':\n",
    "         apple_free.append(row)\n",
    "    "
   ]
  },
  {
   "cell_type": "markdown",
   "id": "60776fcb",
   "metadata": {},
   "source": [
    "There are much less data rows in our sample after removing the non-free apps. "
   ]
  },
  {
   "cell_type": "code",
   "execution_count": 145,
   "id": "f1cfec3e",
   "metadata": {},
   "outputs": [
    {
     "name": "stdout",
     "output_type": "stream",
     "text": [
      "3222\n"
     ]
    }
   ],
   "source": [
    "print(len(apple_free))"
   ]
  },
  {
   "cell_type": "code",
   "execution_count": 146,
   "id": "67c2e370",
   "metadata": {},
   "outputs": [
    {
     "name": "stdout",
     "output_type": "stream",
     "text": [
      "8864\n"
     ]
    }
   ],
   "source": [
    "print(len(google_free))"
   ]
  },
  {
   "cell_type": "code",
   "execution_count": null,
   "id": "694c237f",
   "metadata": {},
   "outputs": [],
   "source": []
  }
 ],
 "metadata": {
  "kernelspec": {
   "display_name": "Python 3 (ipykernel)",
   "language": "python",
   "name": "python3"
  },
  "language_info": {
   "codemirror_mode": {
    "name": "ipython",
    "version": 3
   },
   "file_extension": ".py",
   "mimetype": "text/x-python",
   "name": "python",
   "nbconvert_exporter": "python",
   "pygments_lexer": "ipython3",
   "version": "3.10.9"
  }
 },
 "nbformat": 4,
 "nbformat_minor": 5
}
